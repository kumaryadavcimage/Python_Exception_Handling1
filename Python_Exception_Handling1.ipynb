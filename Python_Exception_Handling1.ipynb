{
 "cells": [
  {
   "cell_type": "markdown",
   "id": "768d452b-1da2-46f6-9eaf-18718a35fc61",
   "metadata": {},
   "source": [
    "#### Q1. what is an Exception in python? Write the difference between Exceptions and syntax errors."
   ]
  },
  {
   "cell_type": "markdown",
   "id": "73754efd-5d95-4483-8976-763a048d1a80",
   "metadata": {},
   "source": [
    "#### solve\n",
    "\n",
    "In Python, an exception is an event that occurs during the execution of a program and disrupts the normal flow of the program's instructions. When an exception occurs, the program terminates abruptly if the exception is not handled properly. Exceptions can be caused by various reasons such as invalid input, division by zero, file not found, etc.\n",
    "\n",
    "Here's a basic example of how exceptions work in Python:"
   ]
  },
  {
   "cell_type": "code",
   "execution_count": 1,
   "id": "07734b1f-a874-42c9-8687-6db1fc4ded6b",
   "metadata": {},
   "outputs": [
    {
     "name": "stdout",
     "output_type": "stream",
     "text": [
      "Error: Division by zero\n"
     ]
    }
   ],
   "source": [
    "try:\n",
    "    # code that may raise an exception\n",
    "    result = 10 / 0  # This will raise a ZeroDivisionError\n",
    "except ZeroDivisionError:\n",
    "    # code to handle the exception\n",
    "    print(\"Error: Division by zero\")\n"
   ]
  },
  {
   "cell_type": "markdown",
   "id": "600ef120-3fb0-4d4f-9588-db1963c5a8b4",
   "metadata": {},
   "source": [
    "####\n",
    "a.Exceptions:\n",
    "\n",
    "Exceptions occur during the runtime of a program.\n",
    "\n",
    "They are errors that happen when the program is executed, and they may or may not be predictable.\n",
    "\n",
    "Examples include ZeroDivisionError, FileNotFoundError, TypeError, etc.\n",
    "\n",
    "You can use try-except blocks to handle exceptions and prevent the program from terminating unexpectedly.\n",
    "\n",
    "b.Syntax Errors:\n",
    "\n",
    "Syntax errors, on the other hand, occur during the parsing of the code (before the program is executed).\n",
    "\n",
    "They are typically caused by violations of the Python language rules, such as incorrect indentation, missing colons, misspelled keywords, etc.\n",
    "\n",
    "Examples include missing parentheses, invalid syntax in expressions, etc.\n",
    "\n",
    "The program won't run at all if it has syntax errors, and you need to fix them before execution."
   ]
  },
  {
   "cell_type": "markdown",
   "id": "f818dbda-a988-4a87-83e2-2d1ba0d4f05c",
   "metadata": {},
   "source": [
    "#### Q2: what is happens when an exception is not handled? Explain with an example."
   ]
  },
  {
   "cell_type": "markdown",
   "id": "e551f495-3aa6-476e-b909-d6dfd955f1f3",
   "metadata": {},
   "source": [
    "#### solve\n",
    "\n",
    "When an exception is not handled in Python, it propagates up the call stack until it either encounters a suitable exception handler or reaches the top level of the program. If no handler is found, the program terminates, and an error message is displayed, providing information about the unhandled exception. This can lead to an abrupt end of the program and potential loss of data or other unintended consequences.\n",
    "\n",
    "Here's an example that demonstrates what happens when an exception is not handled:\n",
    "\n",
    "In this traceback, you can see the sequence of function calls leading up to the error. The error occurred in the divide_numbers function, and since there's no exception handling within that function or in the calling code, the error propagated up to the top level (<module> in this case) and caused the program to terminate."
   ]
  },
  {
   "cell_type": "markdown",
   "id": "7344acc6-f12a-4a56-8b59-997303f0c39a",
   "metadata": {},
   "source": [
    "#### Q3: Which python statements are used to catch and handle exceptions? Explain with an example."
   ]
  },
  {
   "cell_type": "markdown",
   "id": "f431bf0b-501f-4cf1-9d9f-c91c6fb840eb",
   "metadata": {},
   "source": [
    "#### solve\n",
    "\n",
    "In Python, the try, except, else, and finally statements are used to catch and handle exceptions. These statements provide a way to gracefully manage errors during the execution of a program.\n",
    "\n",
    "Here's the basic structure of a try-except block:\n",
    "\n",
    "Let's break down each part of the try-except block:\n",
    "\n",
    "The try block contains the code that might raise an exception.\n",
    "\n",
    "The except block catches and handles exceptions of a specific type \n",
    "\n",
    "(ExceptionType). You can catch specific exceptions or a more general Exception \n",
    "if you want to handle any exception type.\n",
    "\n",
    "The else block contains code that is executed if no exception occurs in the \n",
    "try block.\n",
    "\n",
    "The finally block (optional) contains code that is always executed, whether an exception occurred or not. It is typically used for cleanup operations.\n",
    "\n",
    "In the first example, the function divide_numbers is called with arguments that lead to a division by zero (10 / 0). The except block catches the ZeroDivisionError and prints an error message. The finally block is still executed, providing a way to perform cleanup tasks.\n",
    "\n",
    "In the second example, the function is called with valid arguments (10 / 2), and the else block is executed, printing the result of the division. The finally block is still executed."
   ]
  },
  {
   "cell_type": "markdown",
   "id": "f3590dd1-5638-4ad4-a59e-ab4c02d84adb",
   "metadata": {},
   "source": [
    "#### Q4: Explain with an example:\n",
    "\n",
    "a. try and else\n",
    "\n",
    "b.finally\n",
    "\n",
    "c.raise"
   ]
  },
  {
   "cell_type": "markdown",
   "id": "0e542e80-a49f-45c5-bf4a-80a5913270e3",
   "metadata": {},
   "source": [
    "#### solve\n",
    "Certainly! Let's go through an example that uses the try, except, else, finally, and raise statements in Python:"
   ]
  },
  {
   "cell_type": "code",
   "execution_count": 4,
   "id": "3c363313-ca0a-4756-b556-2f5bd720ebf5",
   "metadata": {},
   "outputs": [
    {
     "name": "stdout",
     "output_type": "stream",
     "text": [
      "Error: Division by zero is not allowed.\n",
      "This code always runs, regardless of exceptions.\n",
      "The result of 10 divided by -2 is: -5.0\n",
      "This code always runs, regardless of exceptions.\n",
      "Caught a ValueError: Negative result is not allowed.\n"
     ]
    }
   ],
   "source": [
    "def divide_and_print(a, b):\n",
    "    try:\n",
    "        result = a / b\n",
    "    except ZeroDivisionError:\n",
    "        print(\"Error: Division by zero is not allowed.\")\n",
    "    else:\n",
    "        print(f\"The result of {a} divided by {b} is: {result}\")\n",
    "        # If the result is negative, raise a custom exception\n",
    "        if result < 0:\n",
    "            raise ValueError(\"Negative result is not allowed.\")\n",
    "    finally:\n",
    "        print(\"This code always runs, regardless of exceptions.\")\n",
    "\n",
    "# Example 1: Handling division by zero\n",
    "divide_and_print(10, 0)\n",
    "\n",
    "# Example 2: Handling a valid division with a negative result\n",
    "try:\n",
    "    divide_and_print(10, -2)\n",
    "except ValueError as ve:\n",
    "    print(f\"Caught a ValueError: {ve}\")\n"
   ]
  },
  {
   "cell_type": "markdown",
   "id": "8e15bbdf-4685-493b-b154-93acfa9ac160",
   "metadata": {},
   "source": [
    "####\n",
    "In this example:\n",
    "\n",
    "a.The divide_and_print function takes two arguments, a and b, and attempts to perform the division.\n",
    "\n",
    "b.The try block contains the division operation. If a ZeroDivisionError occurs, the program jumps to the except block and prints an error message.\n",
    "\n",
    "c.The else block contains code that is executed if no exception occurs in the try block. In this case, it prints the result of the division. Additionally, it checks if the result is negative and raises a ValueError if so.\n",
    "\n",
    "d.The finally block contains code that is always executed, whether an exception occurred or not. It prints a message indicating that this code always runs.\n",
    "\n",
    "e.In the first example (divide_and_print(10, 0)), a division by zero is attempted, leading to the execution of the except block and the finally block. The else block is skipped in this case.\n",
    "\n",
    "f.In the second example (divide_and_print(10, -2)), a valid division is performed, and the else block is executed. However, since the result is negative, a ValueError is raised within the else block. The program then jumps to the except block outside the function, catching the ValueError and printing a custom error message. Finally, the finally block is executed."
   ]
  },
  {
   "cell_type": "markdown",
   "id": "35c31077-0700-430c-9765-8d618c98cbdc",
   "metadata": {},
   "source": [
    "#### Q5: what are custom Exception in python? Why do we need custom Exception? Explain with an example."
   ]
  },
  {
   "cell_type": "markdown",
   "id": "6e4bc80e-58c9-4715-9f21-3c970212ef01",
   "metadata": {},
   "source": [
    "#### solve\n",
    "\n",
    "Custom exceptions in Python are user-defined exception classes that extend the built-in Exception class. They allow developers to create their own specific types of exceptions to handle unique situations in their code. Using custom exceptions can make the code more readable, maintainable, and can help in distinguishing different types of errors.\n",
    "\n",
    "Here's why we might need custom exceptions:\n",
    "\n",
    "a.Clarity and Readability: Custom exceptions provide a way to give meaningful names to specific error conditions in your code. This makes it easier to understand the purpose of the exception and the circumstances under which it is raised.\n",
    "\n",
    "b.Modularity and Maintenance: By defining custom exceptions, you can encapsulate error-handling logic related to specific situations. This enhances the modularity of your code, making it easier to maintain and update.\n",
    "\n",
    "c.Hierarchy and Inheritance: Custom exceptions can be organized in a hierarchy, with a base exception class and more specific subclasses. This allows you to catch exceptions at different levels and handle them accordingly.\n",
    "\n",
    "Here's an example to illustrate the concept of custom exceptions:"
   ]
  },
  {
   "cell_type": "code",
   "execution_count": 5,
   "id": "806e1bca-b003-42a9-a601-b4eadc343f84",
   "metadata": {},
   "outputs": [
    {
     "name": "stdout",
     "output_type": "stream",
     "text": [
      "Error: Invalid withdrawal amount: -50. Amount must be positive.\n"
     ]
    }
   ],
   "source": [
    "class WithdrawalError(Exception):\n",
    "    \"\"\"Custom exception for withdrawal errors.\"\"\"\n",
    "    pass\n",
    "\n",
    "class InsufficientFundsError(WithdrawalError):\n",
    "    \"\"\"Exception for insufficient funds during a withdrawal.\"\"\"\n",
    "    def __init__(self, balance, amount):\n",
    "        self.balance = balance\n",
    "        self.amount = amount\n",
    "        super().__init__(f\"Insufficient funds: Balance={balance}, Withdrawal Amount={amount}\")\n",
    "\n",
    "class NegativeAmountError(WithdrawalError):\n",
    "    \"\"\"Exception for negative withdrawal amounts.\"\"\"\n",
    "    def __init__(self, amount):\n",
    "        self.amount = amount\n",
    "        super().__init__(f\"Invalid withdrawal amount: {amount}. Amount must be positive.\")\n",
    "\n",
    "def withdraw(balance, amount):\n",
    "    if amount < 0:\n",
    "        raise NegativeAmountError(amount)\n",
    "    if amount > balance:\n",
    "        raise InsufficientFundsError(balance, amount)\n",
    "    # Perform the withdrawal logic here\n",
    "    return balance - amount\n",
    "\n",
    "# Example usage\n",
    "try:\n",
    "    new_balance = withdraw(100, -50)  # This will raise NegativeAmountError\n",
    "except WithdrawalError as e:\n",
    "    print(f\"Error: {e}\")\n",
    "else:\n",
    "    print(f\"Withdrawal successful. New balance: {new_balance}\")\n"
   ]
  },
  {
   "cell_type": "markdown",
   "id": "cd5a37b5-7287-417d-9739-3c6c4b97bac2",
   "metadata": {},
   "source": [
    "####\n",
    "In this example:\n",
    "\n",
    "There are two custom exceptions, InsufficientFundsError and NegativeAmountError, both derived from the base exception class WithdrawalError.\n",
    "\n",
    "The withdraw function uses these custom exceptions to handle specific error conditions during a withdrawal operation.\n",
    "\n",
    "When calling withdraw(100, -50), a NegativeAmountError is raised, and the program catches it in the except block, printing a meaningful error message"
   ]
  },
  {
   "cell_type": "markdown",
   "id": "b2c1cf03-ab19-4875-9437-c6831501e9ea",
   "metadata": {},
   "source": [
    "#### Q6: Create a custom exception class. Use this class to handle an exception."
   ]
  },
  {
   "cell_type": "markdown",
   "id": "423563b5-af09-4760-8a21-c2cabe72650f",
   "metadata": {},
   "source": [
    "#### solve\n",
    "\n",
    "Certainly! Let's create a custom exception class and then use it to handle an exception in a simple Python program:"
   ]
  },
  {
   "cell_type": "code",
   "execution_count": 6,
   "id": "a1288025-f146-41dc-8e0c-6c08d6aa2d3b",
   "metadata": {},
   "outputs": [
    {
     "name": "stdin",
     "output_type": "stream",
     "text": [
      "Enter a positive number:  5\n"
     ]
    },
    {
     "name": "stdout",
     "output_type": "stream",
     "text": [
      "Processing completed successfully.\n"
     ]
    }
   ],
   "source": [
    "class CustomValueError(ValueError):\n",
    "    \"\"\"Custom exception class for handling specific value errors.\"\"\"\n",
    "    def __init__(self, value):\n",
    "        self.value = value\n",
    "        super().__init__(f\"CustomValueError: Invalid value - {value}\")\n",
    "\n",
    "def process_input(value):\n",
    "    if value < 0:\n",
    "        raise CustomValueError(value)\n",
    "    # Perform processing logic here\n",
    "\n",
    "# Example usage\n",
    "try:\n",
    "    user_input = int(input(\"Enter a positive number: \"))\n",
    "    process_input(user_input)\n",
    "except CustomValueError as cve:\n",
    "    print(f\"Error: {cve}\")\n",
    "except ValueError:\n",
    "    print(\"Error: Please enter a valid integer.\")\n",
    "else:\n",
    "    print(\"Processing completed successfully.\")\n"
   ]
  },
  {
   "cell_type": "markdown",
   "id": "ce45163f-33d5-45eb-a901-82e3c26626fc",
   "metadata": {},
   "source": [
    "####\n",
    "In this example:\n",
    "\n",
    "We define a custom exception class CustomValueError, which is a subclass of the built-in ValueError. The constructor (__init__) takes the invalid value as an argument and generates a meaningful error message.\n",
    "\n",
    "The process_input function is designed to raise the CustomValueError if the input value is negative. In a real-world scenario, this function would contain the processing logic that depends on the input.\n",
    "\n",
    "The try block attempts to get user input, convert it to an integer, and then calls process_input. If the input is negative, it raises a CustomValueError.\n",
    "\n",
    "The except CustomValueError as cve block catches the custom exception, prints the error message, and allows for specific handling of this type of error.\n",
    "\n",
    "The except ValueError block catches the general case where the user enters something that cannot be converted to an integer.\n",
    "\n",
    "The else block is executed if no exception occurs, indicating that the processing completed successfully."
   ]
  },
  {
   "cell_type": "code",
   "execution_count": null,
   "id": "f5d0240f-7a62-4d53-b1a4-bab6bc489d4f",
   "metadata": {},
   "outputs": [],
   "source": []
  },
  {
   "cell_type": "code",
   "execution_count": null,
   "id": "f2fb585c-aec2-459b-a9be-1cfcc8e9aff7",
   "metadata": {},
   "outputs": [],
   "source": []
  }
 ],
 "metadata": {
  "kernelspec": {
   "display_name": "Python 3 (ipykernel)",
   "language": "python",
   "name": "python3"
  },
  "language_info": {
   "codemirror_mode": {
    "name": "ipython",
    "version": 3
   },
   "file_extension": ".py",
   "mimetype": "text/x-python",
   "name": "python",
   "nbconvert_exporter": "python",
   "pygments_lexer": "ipython3",
   "version": "3.10.8"
  }
 },
 "nbformat": 4,
 "nbformat_minor": 5
}
